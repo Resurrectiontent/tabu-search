{
 "cells": [
  {
   "cell_type": "code",
   "execution_count": 1,
   "metadata": {
    "collapsed": true
   },
   "outputs": [],
   "source": [
    "import pickle\n",
    "import os\n",
    "from itertools import chain, groupby\n",
    "from operator import itemgetter\n",
    "\n",
    "import numpy as np\n",
    "import pandas as pd\n",
    "from matplotlib import pyplot as plt\n",
    "import seaborn as sns\n",
    "\n",
    "%matplotlib inline"
   ]
  },
  {
   "cell_type": "code",
   "execution_count": 58,
   "outputs": [],
   "source": [
    "def get_f_names(folder, prefix = '', postfix = '.pickle'):\n",
    "    return [f for f in list(os.walk(folder))[0][-1] if f.startswith(prefix) and f.endswith(postfix)]\n",
    "\n",
    "def load_data(folder, file_name):\n",
    "    with open(os.path.join(folder, file_name), 'rb') as read_pickle:\n",
    "        return pickle.load(read_pickle)\n",
    "\n",
    "def get_init_first_second(data):\n",
    "    first = 'res'\n",
    "    second = 'ord'\n",
    "\n",
    "    init = data[first][0][0][0] # first -> history -> initial_step -> value\n",
    "    first_res = data[first][1][-1][0] # second -> hall_of_fame -> best -> value\n",
    "    second_res = data[second][1][-1][0] # second -> hall_of_fame -> best -> value\n",
    "\n",
    "    first_res_percent = 1 - first_res / init\n",
    "    total_percent = 1 - second_res / init\n",
    "    second_res_percent = total_percent - first_res_percent\n",
    "\n",
    "    # return init, first_res, second_res\n",
    "    return 100, first_res_percent * 100, second_res_percent * 100, total_percent * 100\n",
    "\n",
    "def agg_data(data):\n",
    "    df = pd.DataFrame([[grouper, *get_init_first_second(run)]\n",
    "     for grouper, group in groupby(data, itemgetter('modification'))\n",
    "     for run in group], columns=['modification', 'init', 'res', 'ord', 'total'])\n",
    "\n",
    "    grouped = df.groupby('modification').agg(dict(init=('count', 'mean'), res=('mean', 'std'), ord=('mean', 'std'), total=('mean', 'std')))\n",
    "    return grouped\n",
    "\n",
    "def get_aggregation(folder, f_names):\n",
    "    data = [load_data(folder, f) for f in f_names]\n",
    "    agg = agg_data(data)\n",
    "    return agg"
   ],
   "metadata": {
    "collapsed": false
   }
  },
  {
   "cell_type": "code",
   "execution_count": 59,
   "outputs": [
    {
     "data": {
      "text/plain": "                      init              res                  ord            \\\n                     count   mean      mean       std       mean       std   \nmodification                                                                 \naspiration_ge            4  100.0  1.266222  0.541361  28.859499  1.242807   \nno                       4  100.0  0.082072  0.071804  34.853183  1.381917   \nsimple_id                4  100.0  0.155025  0.063616  35.546234  1.568608   \nstochastic_selection     4  100.0  0.068393  0.075013  35.443644  1.166350   \nstochastic_tabu          4  100.0  0.036476  0.051585  37.281142  0.838573   \nuse_ga                   4  100.0  1.430696  1.058812  13.027217  6.837183   \n\n                          total            \n                           mean       std  \nmodification                               \naspiration_ge         30.125721  0.803436  \nno                    34.935254  1.447860  \nsimple_id             35.701258  1.520311  \nstochastic_selection  35.512037  1.187617  \nstochastic_tabu       37.317618  0.814017  \nuse_ga                14.457913  7.548131  ",
      "text/html": "<div>\n<style scoped>\n    .dataframe tbody tr th:only-of-type {\n        vertical-align: middle;\n    }\n\n    .dataframe tbody tr th {\n        vertical-align: top;\n    }\n\n    .dataframe thead tr th {\n        text-align: left;\n    }\n\n    .dataframe thead tr:last-of-type th {\n        text-align: right;\n    }\n</style>\n<table border=\"1\" class=\"dataframe\">\n  <thead>\n    <tr>\n      <th></th>\n      <th colspan=\"2\" halign=\"left\">init</th>\n      <th colspan=\"2\" halign=\"left\">res</th>\n      <th colspan=\"2\" halign=\"left\">ord</th>\n      <th colspan=\"2\" halign=\"left\">total</th>\n    </tr>\n    <tr>\n      <th></th>\n      <th>count</th>\n      <th>mean</th>\n      <th>mean</th>\n      <th>std</th>\n      <th>mean</th>\n      <th>std</th>\n      <th>mean</th>\n      <th>std</th>\n    </tr>\n    <tr>\n      <th>modification</th>\n      <th></th>\n      <th></th>\n      <th></th>\n      <th></th>\n      <th></th>\n      <th></th>\n      <th></th>\n      <th></th>\n    </tr>\n  </thead>\n  <tbody>\n    <tr>\n      <th>aspiration_ge</th>\n      <td>4</td>\n      <td>100.0</td>\n      <td>1.266222</td>\n      <td>0.541361</td>\n      <td>28.859499</td>\n      <td>1.242807</td>\n      <td>30.125721</td>\n      <td>0.803436</td>\n    </tr>\n    <tr>\n      <th>no</th>\n      <td>4</td>\n      <td>100.0</td>\n      <td>0.082072</td>\n      <td>0.071804</td>\n      <td>34.853183</td>\n      <td>1.381917</td>\n      <td>34.935254</td>\n      <td>1.447860</td>\n    </tr>\n    <tr>\n      <th>simple_id</th>\n      <td>4</td>\n      <td>100.0</td>\n      <td>0.155025</td>\n      <td>0.063616</td>\n      <td>35.546234</td>\n      <td>1.568608</td>\n      <td>35.701258</td>\n      <td>1.520311</td>\n    </tr>\n    <tr>\n      <th>stochastic_selection</th>\n      <td>4</td>\n      <td>100.0</td>\n      <td>0.068393</td>\n      <td>0.075013</td>\n      <td>35.443644</td>\n      <td>1.166350</td>\n      <td>35.512037</td>\n      <td>1.187617</td>\n    </tr>\n    <tr>\n      <th>stochastic_tabu</th>\n      <td>4</td>\n      <td>100.0</td>\n      <td>0.036476</td>\n      <td>0.051585</td>\n      <td>37.281142</td>\n      <td>0.838573</td>\n      <td>37.317618</td>\n      <td>0.814017</td>\n    </tr>\n    <tr>\n      <th>use_ga</th>\n      <td>4</td>\n      <td>100.0</td>\n      <td>1.430696</td>\n      <td>1.058812</td>\n      <td>13.027217</td>\n      <td>6.837183</td>\n      <td>14.457913</td>\n      <td>7.548131</td>\n    </tr>\n  </tbody>\n</table>\n</div>"
     },
     "metadata": {},
     "output_type": "display_data"
    }
   ],
   "source": [
    "folder = 'results/1'\n",
    "files = get_f_names(folder)\n",
    "df_mod = get_aggregation(folder, files)\n",
    "display(df_mod)"
   ],
   "metadata": {
    "collapsed": false
   }
  },
  {
   "cell_type": "code",
   "execution_count": 60,
   "outputs": [],
   "source": [
    "def get_repeated_data(data):\n",
    "    first = 'res'\n",
    "    second = 'ord'\n",
    "\n",
    "    init = data['opt'][0][first][0][0][0] # optimisation -> first_iter -> first -> history -> initial_step -> value\n",
    "    res = data['opt'][-1][second][1][-1][0] # optimisation -> last_iter -> second -> hall_of_fame -> best -> value\n",
    "\n",
    "    return 100, 100 - (res / init) * 100\n",
    "\n",
    "def agg_repeated_data(data):\n",
    "    df = pd.DataFrame([[grouper, *get_repeated_data(run[1])]\n",
    "     for grouper, group in groupby(data, itemgetter(0))\n",
    "     for run in group], columns=['modification', 'init', 'total'])\n",
    "\n",
    "    grouped = df.groupby('modification').agg(dict(init=('count', 'mean'), total=('mean', 'std')))\n",
    "    return grouped\n",
    "\n",
    "def get_repeated_aggregation(folder, f_names):\n",
    "    data = [(n, load_data(folder, f)) for n, f in chain(*f_names)]\n",
    "    agg = agg_repeated_data(data)\n",
    "    return agg"
   ],
   "metadata": {
    "collapsed": false
   }
  },
  {
   "cell_type": "code",
   "execution_count": 61,
   "outputs": [
    {
     "data": {
      "text/plain": "              init              res                  ord                total  \\\n             count   mean      mean       std       mean       std       mean   \nmodification                                                                    \nFalse            4  100.0  0.117005  0.086076  31.089815  2.602242  31.206820   \nTrue             4  100.0  0.033430  0.137082  31.109316  0.822764  31.142746   \n\n                        \n                   std  \nmodification            \nFalse         2.534156  \nTrue          0.714816  ",
      "text/html": "<div>\n<style scoped>\n    .dataframe tbody tr th:only-of-type {\n        vertical-align: middle;\n    }\n\n    .dataframe tbody tr th {\n        vertical-align: top;\n    }\n\n    .dataframe thead tr th {\n        text-align: left;\n    }\n\n    .dataframe thead tr:last-of-type th {\n        text-align: right;\n    }\n</style>\n<table border=\"1\" class=\"dataframe\">\n  <thead>\n    <tr>\n      <th></th>\n      <th colspan=\"2\" halign=\"left\">init</th>\n      <th colspan=\"2\" halign=\"left\">res</th>\n      <th colspan=\"2\" halign=\"left\">ord</th>\n      <th colspan=\"2\" halign=\"left\">total</th>\n    </tr>\n    <tr>\n      <th></th>\n      <th>count</th>\n      <th>mean</th>\n      <th>mean</th>\n      <th>std</th>\n      <th>mean</th>\n      <th>std</th>\n      <th>mean</th>\n      <th>std</th>\n    </tr>\n    <tr>\n      <th>modification</th>\n      <th></th>\n      <th></th>\n      <th></th>\n      <th></th>\n      <th></th>\n      <th></th>\n      <th></th>\n      <th></th>\n    </tr>\n  </thead>\n  <tbody>\n    <tr>\n      <th>False</th>\n      <td>4</td>\n      <td>100.0</td>\n      <td>0.117005</td>\n      <td>0.086076</td>\n      <td>31.089815</td>\n      <td>2.602242</td>\n      <td>31.206820</td>\n      <td>2.534156</td>\n    </tr>\n    <tr>\n      <th>True</th>\n      <td>4</td>\n      <td>100.0</td>\n      <td>0.033430</td>\n      <td>0.137082</td>\n      <td>31.109316</td>\n      <td>0.822764</td>\n      <td>31.142746</td>\n      <td>0.714816</td>\n    </tr>\n  </tbody>\n</table>\n</div>"
     },
     "metadata": {},
     "output_type": "display_data"
    }
   ],
   "source": [
    "folder = 'results/'\n",
    "files = get_f_names(folder, 'pure') + get_f_names(folder, 'mod')\n",
    "df_best = get_aggregation(folder, files)\n",
    "# display(df_best / df_best.loc[False, ('total', 'mean')] * df_mod.loc['no', ('total', 'mean')])\n",
    "display(df_best)"
   ],
   "metadata": {
    "collapsed": false
   }
  },
  {
   "cell_type": "code",
   "execution_count": 62,
   "outputs": [
    {
     "data": {
      "text/plain": "                  init                 total          \n                 count       mean       mean       std\nmodification                                          \niter          3.647075  91.176883  37.746195  1.542741\nno            3.647075  91.176883  34.935254  1.952533",
      "text/html": "<div>\n<style scoped>\n    .dataframe tbody tr th:only-of-type {\n        vertical-align: middle;\n    }\n\n    .dataframe tbody tr th {\n        vertical-align: top;\n    }\n\n    .dataframe thead tr th {\n        text-align: left;\n    }\n\n    .dataframe thead tr:last-of-type th {\n        text-align: right;\n    }\n</style>\n<table border=\"1\" class=\"dataframe\">\n  <thead>\n    <tr>\n      <th></th>\n      <th colspan=\"2\" halign=\"left\">init</th>\n      <th colspan=\"2\" halign=\"left\">total</th>\n    </tr>\n    <tr>\n      <th></th>\n      <th>count</th>\n      <th>mean</th>\n      <th>mean</th>\n      <th>std</th>\n    </tr>\n    <tr>\n      <th>modification</th>\n      <th></th>\n      <th></th>\n      <th></th>\n      <th></th>\n    </tr>\n  </thead>\n  <tbody>\n    <tr>\n      <th>iter</th>\n      <td>3.647075</td>\n      <td>91.176883</td>\n      <td>37.746195</td>\n      <td>1.542741</td>\n    </tr>\n    <tr>\n      <th>no</th>\n      <td>3.647075</td>\n      <td>91.176883</td>\n      <td>34.935254</td>\n      <td>1.952533</td>\n    </tr>\n  </tbody>\n</table>\n</div>"
     },
     "metadata": {},
     "output_type": "display_data"
    }
   ],
   "source": [
    "folder = 'results/'\n",
    "files = [[('no', i ) for i in get_f_names(folder, 'gen-tabu')], [('iter', i) for i in get_f_names(folder, 'iter-gen-tabu')]]\n",
    "df_iter = get_repeated_aggregation(folder, files)\n",
    "display(df_iter / df_iter.loc['no', ('total', 'mean')] * df_mod.loc['no', ('total', 'mean')])"
   ],
   "metadata": {
    "collapsed": false
   }
  },
  {
   "cell_type": "code",
   "execution_count": null,
   "outputs": [],
   "source": [],
   "metadata": {
    "collapsed": false
   }
  }
 ],
 "metadata": {
  "kernelspec": {
   "display_name": "Python 3",
   "language": "python",
   "name": "python3"
  },
  "language_info": {
   "codemirror_mode": {
    "name": "ipython",
    "version": 2
   },
   "file_extension": ".py",
   "mimetype": "text/x-python",
   "name": "python",
   "nbconvert_exporter": "python",
   "pygments_lexer": "ipython2",
   "version": "2.7.6"
  }
 },
 "nbformat": 4,
 "nbformat_minor": 0
}
